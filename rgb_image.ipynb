{
 "cells": [
  {
   "cell_type": "code",
   "execution_count": null,
   "metadata": {},
   "outputs": [],
   "source": [
    "%matplotlib inline\n",
    "from matplotlib import pyplot as plt\n",
    "import numpy as np\n",
    "from astropy.io import fits\n",
    "import matplotlib.colors as colors\n",
    "import sep\n",
    "from matplotlib import rcParams\n",
    "\n",
    "rcParams['figure.figsize'] = [11., 11.]"
   ]
  },
  {
   "cell_type": "code",
   "execution_count": null,
   "metadata": {},
   "outputs": [],
   "source": [
    "f125w = fits.getdata(\"f125w_drz.fits\")\n",
    "norm = colors.LogNorm(vmin = f125w.min(), vmax = f125w.max())\n",
    "mask = f125w <=0\n",
    "f125w[mask] = np.nan\n",
    "plt.imshow(f125w)\n",
    "plt.colorbar()"
   ]
  },
  {
   "cell_type": "code",
   "execution_count": null,
   "metadata": {},
   "outputs": [],
   "source": [
    "f125w"
   ]
  },
  {
   "cell_type": "code",
   "execution_count": null,
   "metadata": {},
   "outputs": [],
   "source": [
    "f125w = fits.getdata(\"f125w_drz.fits\")\n",
    "f125w = f125w.byteswap(inplace=True).newbyteorder()\n",
    "f125w = f125w/np.max(f125w)\n",
    "f125w = np.log(f125w)\n",
    "\n",
    "f160w = fits.getdata(\"f160w_drz.fits\")\n",
    "f160w = f160w.byteswap(inplace=True).newbyteorder()\n",
    "f160w = f160w/np.max(f160w)\n",
    "f160w = np.log(f160w)\n",
    "\n",
    "f105w = fits.getdata(\"f105w_drz.fits\")\n",
    "f105w = f105w.byteswap(inplace=True).newbyteorder()\n",
    "f105w = f105w/np.max(f105w)\n",
    "f105w = np.log(f105w)"
   ]
  },
  {
   "cell_type": "code",
   "execution_count": null,
   "metadata": {},
   "outputs": [],
   "source": [
    "plt.imshow((np.abs(np.stack([f125w,f160w,f105w]).transpose()))**(0.1),origin='lower', interpolation='nearest')\n",
    "plt.show()\n",
    "plt.clf()\n",
    "\n",
    "data_RGB=np.zeros((f125w.shape[0],f125w.shape[1],3),dtype=float)\n",
    "data_RGB[:,:,0]=f125w; data_RGB[:,:,1]=f160w; data_RGB[:,:,2]=f105w\n",
    "\n",
    "plt.savefig(\"RGB.png\")"
   ]
  },
  {
   "cell_type": "code",
   "execution_count": null,
   "metadata": {},
   "outputs": [],
   "source": [
    "\n"
   ]
  }
 ],
 "metadata": {
  "kernelspec": {
   "display_name": "Python 3",
   "language": "python",
   "name": "python3"
  },
  "language_info": {
   "codemirror_mode": {
    "name": "ipython",
    "version": 3
   },
   "file_extension": ".py",
   "mimetype": "text/x-python",
   "name": "python",
   "nbconvert_exporter": "python",
   "pygments_lexer": "ipython3",
   "version": "3.6.5"
  }
 },
 "nbformat": 4,
 "nbformat_minor": 2
}
