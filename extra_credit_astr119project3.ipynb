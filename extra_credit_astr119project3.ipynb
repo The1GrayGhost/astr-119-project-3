{
 "cells": [
  {
   "cell_type": "code",
   "execution_count": null,
   "metadata": {},
   "outputs": [],
   "source": [
    "%matplotlib inline\n",
    "from matplotlib import pyplot as plt\n",
    "import numpy as np\n",
    "from astropy.io import fits\n",
    "from skimage import color\n",
    "import sep\n",
    "from matplotlib import rcParams\n",
    "\n",
    "rcParams['figure.figsize'] = [10., 10.]"
   ]
  },
  {
   "cell_type": "code",
   "execution_count": null,
   "metadata": {},
   "outputs": [],
   "source": [
    "f125w = fits.getdata(\"/Users/carlisavannah/Desktop/hlsp_hudf12_hst_wfc3ir_udfmain_f125w_v1.0_drz.fits\")\n",
    "f125w = f125w.byteswap(inplace=True).newbyteorder()\n",
    "\n",
    "f160w = fits.getdata(\"/Users/carlisavannah/Desktop/hlsp_hudf12_hst_wfc3ir_udfmain_f160w_v1.0_drz.fits\")\n",
    "f160w = f160w.byteswap(inplace=True).newbyteorder()\n",
    "f160w = f160w/np.max(f160w)\n",
    "\n",
    "f105w = fits.getdata(\"/Users/carlisavannah/Desktop/hlsp_hudf12_hst_wfc3ir_udfmain_f105w_v1.0_drz.fits\")\n",
    "f105w = f105w.byteswap(inplace=True).newbyteorder()\n",
    "f105w = f105w/np.max(f105w)"
   ]
  },
  {
   "cell_type": "code",
   "execution_count": null,
   "metadata": {},
   "outputs": [],
   "source": [
    "plt.imshow((np.abs(np.stack([f125w,f160w,f105w]).transpose()))**(0.1),origin='lower', interpolation='nearest')\n",
    "plt.show()\n",
    "plt.clf()\n",
    "\n",
    "data_RGB=np.zeros((f125w.shape[0],f125w.shape[1],3),dtype=float)\n",
    "data_RGB[:,:,0]=f125w; data_RGB[:,:,1]=f160w; data_RGB[:,:,2]=f105w\n",
    "\n",
    "plt.savefig(\"RGB.png\")"
   ]
  },
  {
   "cell_type": "code",
   "execution_count": null,
   "metadata": {},
   "outputs": [],
   "source": []
  }
 ],
 "metadata": {
  "kernelspec": {
   "display_name": "Python 3",
   "language": "python",
   "name": "python3"
  },
  "language_info": {
   "codemirror_mode": {
    "name": "ipython",
    "version": 3
   },
   "file_extension": ".py",
   "mimetype": "text/x-python",
   "name": "python",
   "nbconvert_exporter": "python",
   "pygments_lexer": "ipython3",
   "version": "3.7.0"
  }
 },
 "nbformat": 4,
 "nbformat_minor": 2
}
